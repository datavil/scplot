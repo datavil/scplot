{
 "cells": [
  {
   "cell_type": "code",
   "execution_count": 1,
   "metadata": {},
   "outputs": [
    {
     "data": {
      "text/html": [
       "\n",
       "            <div id=\"pgL4yB\"></div>\n",
       "            <script type=\"text/javascript\" data-lets-plot-script=\"library\">\n",
       "                if(!window.letsPlotCallQueue) {\n",
       "                    window.letsPlotCallQueue = [];\n",
       "                }; \n",
       "                window.letsPlotCall = function(f) {\n",
       "                    window.letsPlotCallQueue.push(f);\n",
       "                };\n",
       "                (function() {\n",
       "                    var script = document.createElement(\"script\");\n",
       "                    script.type = \"text/javascript\";\n",
       "                    script.src = \"https://cdn.jsdelivr.net/gh/JetBrains/lets-plot@v4.5.1/js-package/distr/lets-plot.min.js\";\n",
       "                    script.onload = function() {\n",
       "                        window.letsPlotCall = function(f) {f();};\n",
       "                        window.letsPlotCallQueue.forEach(function(f) {f();});\n",
       "                        window.letsPlotCallQueue = [];\n",
       "                        \n",
       "                    };\n",
       "                    script.onerror = function(event) {\n",
       "                        window.letsPlotCall = function(f) {};    // noop\n",
       "                        window.letsPlotCallQueue = [];\n",
       "                        var div = document.createElement(\"div\");\n",
       "                        div.style.color = 'darkred';\n",
       "                        div.textContent = 'Error loading Lets-Plot JS';\n",
       "                        document.getElementById(\"pgL4yB\").appendChild(div);\n",
       "                    };\n",
       "                    var e = document.getElementById(\"pgL4yB\");\n",
       "                    e.appendChild(script);\n",
       "                })()\n",
       "            </script>\n",
       "            "
      ]
     },
     "metadata": {},
     "output_type": "display_data"
    }
   ],
   "source": [
    "# Core scverse libraries\n",
    "import scanpy as sc\n",
    "import anndata as ad\n",
    "\n",
    "# Data retrieval\n",
    "import pooch\n",
    "import polars as pl\n",
    "\n",
    "from lets_plot import (\n",
    "    ggplot,\n",
    "    geom_violin,\n",
    "    geom_point,\n",
    "    geom_jitter,\n",
    "    geom_blank,\n",
    "    aes,\n",
    "    theme_classic,\n",
    "    LetsPlot,\n",
    "    layer_tooltips,\n",
    "    gggrid,\n",
    "    ggtb,\n",
    "    ggsize,\n",
    ")\n",
    "\n",
    "LetsPlot.setup_html()\n",
    "\n",
    "from typing import Literal"
   ]
  },
  {
   "cell_type": "code",
   "execution_count": 2,
   "metadata": {},
   "outputs": [],
   "source": [
    "def violin(data, obs_key, fill=\"#FF00FF\", trim=False):\n",
    "\n",
    "    if not isinstance(data, sc.AnnData):\n",
    "        raise ValueError(\"data must be an AnnData object\")\n",
    "    else:\n",
    "        frame = pl.from_pandas(data.obs, include_index=True).rename({\"None\": \"ID\"}) \n",
    "\n",
    "    vln = (\n",
    "        ggplot(data=frame)\n",
    "        + geom_violin(data=frame,mapping=aes(y=obs_key), fill=fill,color=\"black\",trim=trim)\n",
    "        + geom_jitter(data=frame,mapping=aes(y=obs_key), alpha=0.7, size=0.5, tooltips=\"none\") \n",
    "        + theme_classic()\n",
    "    )\n",
    "    return vln"
   ]
  },
  {
   "cell_type": "code",
   "execution_count": 3,
   "metadata": {},
   "outputs": [],
   "source": [
    "def violins(data, keys:list, interactive=False, **kwargs):\n",
    "    plots = list()\n",
    "    for k in keys:\n",
    "        plots.append(violin(data, k, **kwargs))\n",
    "    \n",
    "    side2side = gggrid(plots)\n",
    "    \n",
    "    if interactive:\n",
    "        return side2side + ggtb()\n",
    "    else:\n",
    "        return side2side"
   ]
  },
  {
   "cell_type": "code",
   "execution_count": 5,
   "metadata": {},
   "outputs": [],
   "source": [
    "adata = sc.read(\"pbmc3k_pped.h5ad\")"
   ]
  }
 ],
 "metadata": {
  "kernelspec": {
   "display_name": ".venv",
   "language": "python",
   "name": "python3"
  },
  "language_info": {
   "codemirror_mode": {
    "name": "ipython",
    "version": 3
   },
   "file_extension": ".py",
   "mimetype": "text/x-python",
   "name": "python",
   "nbconvert_exporter": "python",
   "pygments_lexer": "ipython3",
   "version": "3.11.9"
  }
 },
 "nbformat": 4,
 "nbformat_minor": 2
}
